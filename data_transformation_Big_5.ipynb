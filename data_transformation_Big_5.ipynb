{
 "cells": [
  {
   "cell_type": "code",
   "execution_count": 1,
   "metadata": {},
   "outputs": [],
   "source": [
    "import pandas as pd\n",
    "import numpy as np"
   ]
  },
  {
   "cell_type": "code",
   "execution_count": 2,
   "metadata": {},
   "outputs": [],
   "source": [
    "#list of all different tables \n",
    "data_type = [\"stats\",\"shooting\",\"passing\",\"passing_types\",\"gca\",\"defense\",\"possession\",\"playingtime\"]\n",
    "\n",
    "#iterate through all data types \n",
    "dataframes = {}\n",
    "\n",
    "for i in data_type:\n",
    "#initialize all the tables by loading the CSV files\n",
    "    dataframes[f'{i}']= pd.read_csv(f'Big-5-European-Leagues-Stats_{i}_stats.csv')\n",
    "\n"
   ]
  },
  {
   "cell_type": "code",
   "execution_count": 3,
   "metadata": {},
   "outputs": [],
   "source": [
    "#initialize all data sets \n",
    "shooting_df = dataframes['shooting']\n",
    "passing_df = dataframes['passing']\n",
    "passtype_df = dataframes['passing_types'] \n",
    "gsc_df = dataframes['gca']  #gsc stands for goal scoring creation\n",
    "defense_df = dataframes['defense']\n",
    "possession_df = dataframes['possession']\n",
    "playingtime_df = dataframes['playingtime']"
   ]
  },
  {
   "cell_type": "code",
   "execution_count": 4,
   "metadata": {},
   "outputs": [
    {
     "name": "stdout",
     "output_type": "stream",
     "text": [
      "       Rk                 Player   Nation    Pos      Squad  \\\n",
      "0     NaN  Aaron Ciammaglichella      NaN    NaN        NaN   \n",
      "1   602.0        Aaron Cresswell  eng ENG  DF,FW   West Ham   \n",
      "2  1136.0           Aaron Hickey  sct SCO     DF  Brentford   \n",
      "3  1585.0          Aaron Malouda   fr FRA     FW      Lille   \n",
      "4  2185.0         Aaron Ramsdale  eng ENG     GK    Arsenal   \n",
      "\n",
      "                 Comp   Age    Born  90s  Gls  ...  onGA  +/-  +/-90  On-Off  \\\n",
      "0                 NaN   NaN     NaN  NaN  NaN  ...   NaN  NaN    NaN     NaN   \n",
      "1  eng Premier League  33.0  1989.0  4.8  0.0  ...  11.0 -5.0  -1.03   -0.76   \n",
      "2  eng Premier League  21.0  2002.0  7.9  0.0  ...  12.0 -2.0  -0.25   -0.02   \n",
      "3          fr Ligue 1  17.0  2005.0  0.0  0.0  ...   0.0  0.0   0.00   -0.53   \n",
      "4  eng Premier League  25.0  1998.0  6.0  0.0  ...   5.0  6.0   1.00   -0.75   \n",
      "\n",
      "   onxG  onxGA  xG+/-  xG+/-90  On-Off.1  Matches_playingtime  \n",
      "0   NaN    NaN    NaN      NaN       NaN              Matches  \n",
      "1   6.6    5.6    0.9     0.19      0.79              Matches  \n",
      "2  10.3   10.3    0.1     0.01     -0.07              Matches  \n",
      "3   0.0    0.0    0.0     0.00     -0.36              Matches  \n",
      "4  11.1    5.8    5.3     0.89     -0.45              Matches  \n",
      "\n",
      "[5 rows x 194 columns]\n"
     ]
    }
   ],
   "source": [
    "# Merge DataFrames with unique suffixes to avoid conflicts on duplicate columns\n",
    "Big_5_master_df = shooting_df.merge(passing_df, on='Player', how='outer', suffixes=('', '_passing')) \\\n",
    "                       .merge(passtype_df, on='Player', how='outer', suffixes=('', '_passtype')) \\\n",
    "                       .merge(gsc_df, on='Player', how='outer', suffixes=('', '_gsc')) \\\n",
    "                       .merge(defense_df, on='Player', how='outer', suffixes=('', '_defense')) \\\n",
    "                       .merge(possession_df, on='Player', how='outer', suffixes=('', '_possession')) \\\n",
    "                       .merge(playingtime_df, on='Player', how='outer', suffixes=('', '_playingtime'))\n",
    "\n",
    "print(Big_5_master_df.head())\n"
   ]
  },
  {
   "cell_type": "code",
   "execution_count": 9,
   "metadata": {},
   "outputs": [],
   "source": [
    "#Create CSV for backup\n",
    "Big_5_master_df.to_csv('Big_5_master.csv')"
   ]
  },
  {
   "cell_type": "code",
   "execution_count": 14,
   "metadata": {},
   "outputs": [
    {
     "name": "stdout",
     "output_type": "stream",
     "text": [
      "   player_id                 name  market_value_in_eur\n",
      "0       3333         James Milner              1000000\n",
      "1       5336  Anastasios Tsokanis               350000\n",
      "2       7161        Jonas Hofmann              7000000\n",
      "3       7825           Pepe Reina               600000\n",
      "4      11530        Lionel Carole               550000\n",
      "5      12029      Ludovic Butelle               100000\n",
      "6      12282          Daley Blind              3000000\n",
      "7      12589         Craig Gordon               150000\n",
      "8      12880   Dimitrios Sotiriou               100000\n",
      "9      12907       Alessio Cragno              1500000\n"
     ]
    }
   ],
   "source": [
    "# Load the CSV files from transfrmarkt \n",
    "valuations_df = pd.read_csv('player_valuations.csv') #contains market value\n",
    "players_df = pd.read_csv('players.csv') # contains player names \n",
    "\n",
    "# Convert 'date' column to datetime and filter for rows where the year is 2024\n",
    "valuations_df['date'] = pd.to_datetime(valuations_df['date'], errors='coerce')\n",
    "valuations_2024 = valuations_df[valuations_df['date'].dt.year == 2024]\n",
    "\n",
    "\n",
    "# Sort by 'date' in descending order and drop duplicates to keep the most recent entry per player\n",
    "valuations_2024 = valuations_2024.sort_values(by='date', ascending=False).drop_duplicates(subset='player_id', keep='first')\n",
    "\n",
    "# Filter players for the last season being 2024\n",
    "players_2024 = players_df[players_df['last_season'] == 2024]\n",
    "\n",
    "# Select only relevant columns\n",
    "valuations_2024 = valuations_2024[['player_id', 'market_value_in_eur']]\n",
    "players_2024 = players_2024[['player_id', 'name']]\n",
    "\n",
    "# Merge on 'player_id' column to get the final DataFrame\n",
    "market_value_df = players_2024.merge(valuations_2024, on='player_id', how='inner')\n",
    "\n",
    "# Display the merged DataFrame\n",
    "print(market_value_df.head(10))\n",
    "\n",
    "# Save the merged DataFrame to a CSV file\n",
    "market_value_df.to_csv('market_value.csv', index=False)"
   ]
  },
  {
   "cell_type": "code",
   "execution_count": 16,
   "metadata": {},
   "outputs": [
    {
     "name": "stdout",
     "output_type": "stream",
     "text": [
      "       Rk                 Player   Nation    Pos           Squad  \\\n",
      "0     NaN  Aaron Ciammaglichella      NaN    NaN             NaN   \n",
      "1   602.0        Aaron Cresswell  eng ENG  DF,FW        West Ham   \n",
      "2  1136.0           Aaron Hickey  sct SCO     DF       Brentford   \n",
      "3  1585.0          Aaron Malouda   fr FRA     FW           Lille   \n",
      "4  2185.0         Aaron Ramsdale  eng ENG     GK         Arsenal   \n",
      "5  2186.0           Aaron Ramsey  eng ENG  MF,FW         Burnley   \n",
      "6  2415.0           Aaron Seydel   de GER     FW    Darmstadt 98   \n",
      "7  2741.0      Aaron Wan-Bissaka  eng ENG     DF  Manchester Utd   \n",
      "8   823.0        Aarón Escandell   es ESP     GK      Las Palmas   \n",
      "9  1630.0           Aarón Martín   es ESP     DF           Genoa   \n",
      "\n",
      "                 Comp   Age    Born   90s  Gls  ...  +/-90  On-Off  onxG  \\\n",
      "0                 NaN   NaN     NaN   NaN  NaN  ...    NaN     NaN   NaN   \n",
      "1  eng Premier League  33.0  1989.0   4.8  0.0  ...  -1.03   -0.76   6.6   \n",
      "2  eng Premier League  21.0  2002.0   7.9  0.0  ...  -0.25   -0.02  10.3   \n",
      "3          fr Ligue 1  17.0  2005.0   0.0  0.0  ...   0.00   -0.53   0.0   \n",
      "4  eng Premier League  25.0  1998.0   6.0  0.0  ...   1.00   -0.75  11.1   \n",
      "5  eng Premier League  20.0  2003.0   5.9  0.0  ...  -2.22   -1.47   5.4   \n",
      "6       de Bundesliga  27.0  1996.0   6.9  1.0  ...  -1.31    0.42   5.7   \n",
      "7  eng Premier League  25.0  1997.0  19.8  0.0  ...  -0.20   -0.37  25.3   \n",
      "8          es La Liga  27.0  1995.0   1.7  0.0  ...  -1.76   -1.46   0.3   \n",
      "9          it Serie A  26.0  1997.0  15.3  0.0  ...   0.13    0.22  14.2   \n",
      "\n",
      "   onxGA  xG+/-  xG+/-90  On-Off.1  Matches_playingtime  player_id  \\\n",
      "0    NaN    NaN      NaN       NaN              Matches   724108.0   \n",
      "1    5.6    0.9     0.19      0.79              Matches    92571.0   \n",
      "2   10.3    0.1     0.01     -0.07              Matches   591949.0   \n",
      "3    0.0    0.0     0.00     -0.36              Matches        NaN   \n",
      "4    5.8    5.3     0.89     -0.45              Matches   427568.0   \n",
      "5   11.5   -6.1    -1.04     -0.31              Matches        NaN   \n",
      "6   13.5   -7.8    -1.14      0.08              Matches        NaN   \n",
      "7   37.9  -12.7    -0.64     -0.65              Matches   477758.0   \n",
      "8    3.7   -3.5    -2.04     -1.49              Matches        NaN   \n",
      "9   19.4   -5.2    -0.34     -0.26              Matches   251878.0   \n",
      "\n",
      "   market_value_in_eur  \n",
      "0            1000000.0  \n",
      "1             900000.0  \n",
      "2           25000000.0  \n",
      "3                  NaN  \n",
      "4           22000000.0  \n",
      "5                  NaN  \n",
      "6                  NaN  \n",
      "7           20000000.0  \n",
      "8                  NaN  \n",
      "9            5000000.0  \n",
      "\n",
      "[10 rows x 196 columns]\n"
     ]
    }
   ],
   "source": [
    "\n",
    "# Merge the master dataset with the market value dataset on 'Player' (master_df) and 'name' (market_value_df)\n",
    "merged_master_df = Big_5_master_df.merge(market_value_df, left_on='Player', right_on='name', how='left')\n",
    "\n",
    "# Drop the redundant 'name' column from the merged dataset if desired\n",
    "merged_Big_5_master_df = merged_master_df.drop(columns=['name'])\n",
    "\n",
    "# Display the first few rows of the merged DataFrame\n",
    "print(merged_Big_5_master_df.head(10))\n",
    "\n",
    "#save the merged DataFrame to a CSV file\n",
    "merged_Big_5_master_df.to_csv('Big_5_with_market_value.csv', index=False)\n"
   ]
  }
 ],
 "metadata": {
  "kernelspec": {
   "display_name": "Python 3",
   "language": "python",
   "name": "python3"
  },
  "language_info": {
   "codemirror_mode": {
    "name": "ipython",
    "version": 3
   },
   "file_extension": ".py",
   "mimetype": "text/x-python",
   "name": "python",
   "nbconvert_exporter": "python",
   "pygments_lexer": "ipython3",
   "version": "3.12.6"
  }
 },
 "nbformat": 4,
 "nbformat_minor": 2
}
